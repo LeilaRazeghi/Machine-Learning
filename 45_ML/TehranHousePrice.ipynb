{
 "cells": [
  {
   "cell_type": "code",
   "execution_count": 1,
   "metadata": {},
   "outputs": [],
   "source": [
    "import numpy as np\n",
    "import pandas as pd\n",
    "import matplotlib.pyplot as plt\n",
    "from sklearn.model_selection import train_test_split\n",
    "from lls import LinearLeastSquare"
   ]
  },
  {
   "cell_type": "code",
   "execution_count": 2,
   "metadata": {},
   "outputs": [],
   "source": [
    "data = pd.read_csv(\"HousePrice.csv\")"
   ]
  },
  {
   "cell_type": "code",
   "execution_count": 3,
   "metadata": {},
   "outputs": [],
   "source": [
    "# Clean data\n",
    "data = data[data['Area'].apply(lambda x: str(x).isnumeric())]  # Keep rows where 'Area' is numeric\n",
    "data.drop_duplicates(inplace=True)\n",
    "data.dropna(inplace=True)\n",
    "data.reset_index(drop=True, inplace=True)"
   ]
  },
  {
   "cell_type": "code",
   "execution_count": 4,
   "metadata": {},
   "outputs": [],
   "source": [
    "# Update dollar price to July 2023 exchange rate\n",
    "data['Price'] = pd.to_numeric(data['Price'], errors='coerce')  # Convert 'Price' to numeric\n",
    "data['Price(USD)'] = data['Price'] / 480000\n"
   ]
  },
  {
   "cell_type": "code",
   "execution_count": 5,
   "metadata": {},
   "outputs": [
    {
     "name": "stdout",
     "output_type": "stream",
     "text": [
      "5 Most Expensive Houses:\n",
      "         Address         Price\n",
      "1606  Zaferanieh  9.240000e+10\n",
      "1704      Abazar  9.100000e+10\n",
      "405      Lavasan  8.500000e+10\n",
      "770   Ekhtiarieh  8.160000e+10\n",
      "1249    Niavaran  8.050000e+10\n"
     ]
    }
   ],
   "source": [
    "# Display the 5 most expensive houses' addresses and prices\n",
    "data_expensive = data.sort_values(by='Price', ascending=False)\n",
    "print(\"5 Most Expensive Houses:\")\n",
    "print(data_expensive[['Address', 'Price']].head())\n"
   ]
  },
  {
   "cell_type": "code",
   "execution_count": 6,
   "metadata": {},
   "outputs": [],
   "source": [
    "# Prepare features for training\n",
    "data['Parking'] = data['Parking'].replace([True, False], [1, 0])\n",
    "data['Warehouse'] = data['Warehouse'].replace([True, False], [1, 0])\n",
    "data['Elevator'] = data['Elevator'].replace([True, False], [1, 0])\n"
   ]
  },
  {
   "cell_type": "code",
   "execution_count": 7,
   "metadata": {},
   "outputs": [],
   "source": [
    "# Define X and Y\n",
    "X = data[['Area', 'Room', 'Parking', 'Warehouse', 'Elevator']].to_numpy().astype(int)\n",
    "Y = data[['Price']].to_numpy().reshape(-1, 1)  # Ensure Y is a column vector\n"
   ]
  },
  {
   "cell_type": "code",
   "execution_count": 8,
   "metadata": {},
   "outputs": [
    {
     "name": "stdout",
     "output_type": "stream",
     "text": [
      "  Area  Room  Parking  Warehouse  Elevator         Address         Price  \\\n",
      "0   63     1        1          1         1         Shahran  1.850000e+09   \n",
      "1   60     1        1          1         1         Shahran  1.850000e+09   \n",
      "2   79     2        1          1         1          Pardis  5.500000e+08   \n",
      "3   95     2        1          1         1   Shahrake Qods  9.025000e+08   \n",
      "4  123     2        1          1         1  Shahrake Gharb  7.000000e+09   \n",
      "\n",
      "     Price(USD)  \n",
      "0   3854.166667  \n",
      "1   3854.166667  \n",
      "2   1145.833333  \n",
      "3   1880.208333  \n",
      "4  14583.333333  \n"
     ]
    }
   ],
   "source": [
    "# Check data after processing\n",
    "print(data.head())"
   ]
  },
  {
   "cell_type": "code",
   "execution_count": 9,
   "metadata": {},
   "outputs": [],
   "source": [
    "from sklearn.metrics import mean_absolute_error, mean_squared_error\n",
    "from sklearn.linear_model import LinearRegression\n",
    "\n",
    "# Step 1: Split the dataset into training and testing sets\n",
    "X_train, X_test, Y_train, Y_test = train_test_split(X, Y, test_size=0.2, random_state=42, shuffle=True)"
   ]
  },
  {
   "cell_type": "code",
   "execution_count": 10,
   "metadata": {},
   "outputs": [
    {
     "data": {
      "text/plain": [
       "array([[ 8.12538300e+07],\n",
       "       [-1.57270010e+08],\n",
       "       [-3.45057867e+08],\n",
       "       [-2.52829904e+09],\n",
       "       [-3.52786972e+07]])"
      ]
     },
     "execution_count": 10,
     "metadata": {},
     "output_type": "execute_result"
    }
   ],
   "source": [
    "# Step 2: Fit the LLS model on the training dataset\n",
    "lls = LinearLeastSquare()\n",
    "lls.fit(X_train, Y_train)"
   ]
  },
  {
   "cell_type": "code",
   "execution_count": 11,
   "metadata": {},
   "outputs": [],
   "source": [
    "# Step 3: Evaluate the model on the test dataset using MAE, MSE, and RMSE\n",
    "Y_pred_lls = lls.predict(X_test)"
   ]
  },
  {
   "cell_type": "code",
   "execution_count": 12,
   "metadata": {},
   "outputs": [],
   "source": [
    "# Define evaluation functions\n",
    "def mean_absolute_error_custom(y_true, y_pred):\n",
    "    return np.mean(np.abs(y_true - y_pred))\n",
    "\n",
    "def mean_squared_error_custom(y_true, y_pred):\n",
    "    return np.mean((y_true - y_pred) ** 2)\n",
    "\n",
    "def root_mean_squared_error_custom(y_true, y_pred):\n",
    "    return np.sqrt(mean_squared_error_custom(y_true, y_pred))\n"
   ]
  },
  {
   "cell_type": "code",
   "execution_count": 14,
   "metadata": {},
   "outputs": [
    {
     "name": "stdout",
     "output_type": "stream",
     "text": [
      "LLS Model Evaluation:\n",
      "MAE: 3145859531.486994\n",
      "MSE: 3.944041367901528e+19\n",
      "RMSE: 6280160322.715917\n"
     ]
    }
   ],
   "source": [
    "# Calculate metrics for LLS model\n",
    "mae_lls = mean_absolute_error_custom(Y_test, Y_pred_lls)\n",
    "mse_lls = mean_squared_error_custom(Y_test, Y_pred_lls)\n",
    "rmse_lls = root_mean_squared_error_custom(Y_test, Y_pred_lls)\n",
    "\n",
    "print(\"LLS Model Evaluation:\")\n",
    "print(\"MAE:\", mae_lls)\n",
    "print(\"MSE:\", mse_lls)\n",
    "print(\"RMSE:\", rmse_lls)"
   ]
  },
  {
   "cell_type": "markdown",
   "metadata": {},
   "source": [
    "Compare result with Scikit-Learn's results"
   ]
  },
  {
   "cell_type": "code",
   "execution_count": 15,
   "metadata": {},
   "outputs": [],
   "source": [
    "from sklearn.linear_model import LinearRegression\n",
    "from sklearn.metrics import mean_absolute_error\n",
    "from sklearn.metrics import mean_squared_error"
   ]
  },
  {
   "cell_type": "code",
   "execution_count": 16,
   "metadata": {},
   "outputs": [
    {
     "data": {
      "text/plain": [
       "((2593, 5), (2593, 1), (649, 5), (649, 1))"
      ]
     },
     "execution_count": 16,
     "metadata": {},
     "output_type": "execute_result"
    }
   ],
   "source": [
    "x_train , x_test , y_train , y_test = train_test_split(X,Y , test_size=0.2 , random_state=40)\n",
    "x_train.shape , y_train.shape , x_test.shape , y_test.shape "
   ]
  },
  {
   "cell_type": "code",
   "execution_count": 17,
   "metadata": {},
   "outputs": [],
   "source": [
    "linear_linreg = LinearRegression()\n",
    "linear_linreg.fit(x_train , y_train)\n",
    "y_pred_linreg = linear_linreg.predict(x_test)"
   ]
  },
  {
   "cell_type": "code",
   "execution_count": 18,
   "metadata": {},
   "outputs": [
    {
     "name": "stdout",
     "output_type": "stream",
     "text": [
      "LinearRegression MAE = 2924869589.0485244\n",
      "LinearRegression MSE = 4.074285732083931e+19\n",
      "LinearRegression RMSE = 6383013185.074844\n"
     ]
    }
   ],
   "source": [
    "MAE_linreg = mean_absolute_error(y_test , y_pred_linreg)\n",
    "MSE_linreg = mean_squared_error(y_test , y_pred_linreg)\n",
    "RMSE_linreg = np.sqrt(MSE_linreg)\n",
    "\n",
    "print(\"LinearRegression MAE =\" , MAE_linreg)\n",
    "print(\"LinearRegression MSE =\" , MSE_linreg)\n",
    "print(\"LinearRegression RMSE =\" , RMSE_linreg)"
   ]
  },
  {
   "cell_type": "code",
   "execution_count": 19,
   "metadata": {},
   "outputs": [
    {
     "name": "stdout",
     "output_type": "stream",
     "text": [
      "RidgeCV MAE = 2921432814.4555564\n",
      "RidgeCV MSE = 4.076564555644759e+19\n",
      "RidgeCV RMSE = 6384798004.357506\n"
     ]
    }
   ],
   "source": [
    "# RidgeCV\n",
    "from sklearn.linear_model import RidgeCV  # Linear least squares with l2 regularization\n",
    "\n",
    "rg = RidgeCV()\n",
    "rg.fit(x_train , y_train)\n",
    "y_pred_rg= rg.predict(x_test)\n",
    "\n",
    "MAE_ridge = mean_absolute_error(y_test , y_pred_rg)\n",
    "MSE_ridge = mean_squared_error(y_test , y_pred_rg)\n",
    "RMSE_ridge = np.sqrt(MSE_ridge)\n",
    "\n",
    "\n",
    "print(\"RidgeCV MAE =\" , MAE_ridge)\n",
    "print(\"RidgeCV MSE =\" , MSE_ridge)\n",
    "print(\"RidgeCV RMSE =\" , RMSE_ridge)"
   ]
  }
 ],
 "metadata": {
  "kernelspec": {
   "display_name": "Python 3",
   "language": "python",
   "name": "python3"
  },
  "language_info": {
   "codemirror_mode": {
    "name": "ipython",
    "version": 3
   },
   "file_extension": ".py",
   "mimetype": "text/x-python",
   "name": "python",
   "nbconvert_exporter": "python",
   "pygments_lexer": "ipython3",
   "version": "3.8.10"
  }
 },
 "nbformat": 4,
 "nbformat_minor": 2
}
